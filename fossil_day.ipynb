{
 "cells": [
  {
   "cell_type": "code",
   "execution_count": 1,
   "metadata": {},
   "outputs": [],
   "source": [
    "import numpy as np\n",
    "import random\n",
    "import matplotlib.pyplot as plt"
   ]
  },
  {
   "cell_type": "code",
   "execution_count": 35,
   "metadata": {},
   "outputs": [],
   "source": [
    "plt.rcParams[\"font.size\"] = 10\n",
    "plt.rcParams[\"xtick.direction\"] = \"in\"      \n",
    "plt.rcParams[\"ytick.direction\"] = \"in\" "
   ]
  },
  {
   "cell_type": "code",
   "execution_count": 32,
   "metadata": {},
   "outputs": [],
   "source": [
    "fossil_feed = 4\n",
    "fossil_kind = 78\n",
    "total_day = np.zeros(0)\n",
    "\n",
    "for i in range (10000):\n",
    "    day = 0\n",
    "    fossil = np.zeros(0)\n",
    "    while fossil.size != fossil_kind:\n",
    "        day = day + 1\n",
    "        for j in range (fossil_feed):\n",
    "            fossil = np.append(fossil, random.randint(0, fossil_kind-1))\n",
    "        fossil = np.unique(fossil)\n",
    "    total_day = np.append(total_day, day)"
   ]
  },
  {
   "cell_type": "code",
   "execution_count": 36,
   "metadata": {},
   "outputs": [
    {
     "name": "stderr",
     "output_type": "stream",
     "text": [
      "/usr/local/lib/python3.7/site-packages/ipykernel_launcher.py:15: UserWarning: Matplotlib is currently using module://ipykernel.pylab.backend_inline, which is a non-GUI backend, so cannot show the figure.\n",
      "  from ipykernel import kernelapp as app\n"
     ]
    },
    {
     "data": {
      "image/png": "[encoded data removed]",
      "text/plain": [
       "<Figure size 432x288 with 1 Axes>"
      ]
     },
     "metadata": {
      "needs_background": "light"
     },
     "output_type": "display_data"
    }
   ],
   "source": [
    "fig = plt.figure()\n",
    "ax = fig.add_subplot(111)\n",
    "\n",
    "ax.hist(total_day, bins=np.arange(0, 300, 20), histtype=\"step\", color=\"blue\", density=True)\n",
    "ax.vlines(x=total_day.mean(), ymin=0, ymax=0.025, colors=\"r\", linestyles=\"dashed\")\n",
    "\n",
    "plt.xticks(np.arange(0, 320, 20))\n",
    "plt.xlim(0, 300)\n",
    "plt.ylim(0, 0.025)\n",
    "plt.grid(alpha=0.4)\n",
    "\n",
    "ax.set_xlabel(\"Day\")\n",
    "ax.set_ylabel(\"Probability\")\n",
    "\n",
    "fig.show()\n",
    "#plt.savefig(\"fossil_day.svg\", dpi=300)"
   ]
  },
  {
   "cell_type": "code",
   "execution_count": 33,
   "metadata": {},
   "outputs": [
    {
     "data": {
      "text/plain": [
       "(96.6737, 24.551265309755422)"
      ]
     },
     "execution_count": 33,
     "metadata": {},
     "output_type": "execute_result"
    }
   ],
   "source": [
    "total_day.mean(), total_day.var() ** 0.5 "
   ]
  },
  {
   "cell_type": "code",
   "execution_count": null,
   "metadata": {},
   "outputs": [],
   "source": []
  }
 ],
 "metadata": {
  "kernelspec": {
   "display_name": "Python 3",
   "language": "python",
   "name": "python3"
  },
  "language_info": {
   "codemirror_mode": {
    "name": "ipython",
    "version": 3
   },
   "file_extension": ".py",
   "mimetype": "text/x-python",
   "name": "python",
   "nbconvert_exporter": "python",
   "pygments_lexer": "ipython3",
   "version": "3.7.5"
  }
 },
 "nbformat": 4,
 "nbformat_minor": 4
}
